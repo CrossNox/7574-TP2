{
 "cells": [
  {
   "cell_type": "code",
   "execution_count": 6,
   "id": "46e46d60-d315-4298-b8d6-7c066b4042db",
   "metadata": {},
   "outputs": [],
   "source": [
    "import pandas as pd\n",
    "ratio = 0.01"
   ]
  },
  {
   "cell_type": "code",
   "execution_count": 7,
   "id": "e87efdb4-a16e-4a7a-a03a-9ce693900908",
   "metadata": {},
   "outputs": [
    {
     "name": "stdout",
     "output_type": "stream",
     "text": [
      "33627\n"
     ]
    }
   ],
   "source": [
    "dfpr = pd.read_csv(\"data/the-reddit-irl-dataset-posts.csv\")\n",
    "npred = int(len(dfpr) * ratio)\n",
    "dfpr.head(npred).to_csv(\"data/the-reddit-irl-dataset-posts-reduced.csv\", index=False)\n",
    "print(npred)"
   ]
  },
  {
   "cell_type": "code",
   "execution_count": 8,
   "id": "0991614e-8d4b-4978-b965-c57973b40eb0",
   "metadata": {},
   "outputs": [
    {
     "name": "stdout",
     "output_type": "stream",
     "text": [
      "120530\n"
     ]
    }
   ],
   "source": [
    "dfcr = pd.read_csv(\"data/the-reddit-irl-dataset-comments.csv\")\n",
    "ncred = int(len(dfcr) * ratio)\n",
    "dfcr.head(ncred).to_csv(\"data/the-reddit-irl-dataset-comments-reduced.csv\", index=False)\n",
    "print(ncred)"
   ]
  },
  {
   "cell_type": "code",
   "execution_count": null,
   "id": "f9734424-55cc-4c51-8ad8-043e38ebf52a",
   "metadata": {},
   "outputs": [],
   "source": []
  }
 ],
 "metadata": {
  "kernelspec": {
   "display_name": "Python 3 (ipykernel)",
   "language": "python",
   "name": "python3"
  },
  "language_info": {
   "codemirror_mode": {
    "name": "ipython",
    "version": 3
   },
   "file_extension": ".py",
   "mimetype": "text/x-python",
   "name": "python",
   "nbconvert_exporter": "python",
   "pygments_lexer": "ipython3",
   "version": "3.8.13"
  }
 },
 "nbformat": 4,
 "nbformat_minor": 5
}
