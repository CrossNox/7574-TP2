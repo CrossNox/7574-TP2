{
 "cells": [
  {
   "cell_type": "code",
   "execution_count": 2,
   "id": "50c6e3e1-65dd-4b78-948c-158c41127931",
   "metadata": {},
   "outputs": [],
   "source": [
    "from kaggle import KaggleApi\n",
    "import re\n",
    "import pandas as pd\n",
    "pd.options.display.max_colwidth = None\n",
    "import pathlib"
   ]
  },
  {
   "cell_type": "code",
   "execution_count": 3,
   "id": "6338697e-6eaa-479c-b1f8-86553cee5b66",
   "metadata": {},
   "outputs": [],
   "source": [
    "api = KaggleApi()\n",
    "api.authenticate()"
   ]
  },
  {
   "cell_type": "code",
   "execution_count": 4,
   "id": "d24b6ab6-6313-4f0f-ab7e-920794e244e3",
   "metadata": {},
   "outputs": [],
   "source": [
    "if not pathlib.Path(\"data/the-reddit-irl-dataset-comments.csv\").exists() or not pathlib.Path(\"data/the-reddit-irl-dataset-posts.csv\").exists():\n",
    "    api.dataset_download_files(\"pavellexyr/the-reddit-irl-dataset\", path=\"data\", quiet=False, unzip=True)"
   ]
  },
  {
   "cell_type": "markdown",
   "id": "9969079b-fe2f-4f37-a3f5-a26e51a932ef",
   "metadata": {},
   "source": [
    "# Posts"
   ]
  },
  {
   "cell_type": "code",
   "execution_count": 5,
   "id": "408053d3-7262-4175-9114-2fbcb5fb579a",
   "metadata": {},
   "outputs": [],
   "source": [
    "df_posts = pd.read_csv(\"data/the-reddit-irl-dataset-posts.csv\", usecols=[\"id\", \"permalink\", \"score\", \"url\"], engine=\"c\")"
   ]
  },
  {
   "cell_type": "code",
   "execution_count": 6,
   "id": "4cee5e49-3604-47ae-bedf-72da54c4d31d",
   "metadata": {},
   "outputs": [
    {
     "name": "stdout",
     "output_type": "stream",
     "text": [
      "<class 'pandas.core.frame.DataFrame'>\n",
      "RangeIndex: 3362747 entries, 0 to 3362746\n",
      "Data columns (total 4 columns):\n",
      " #   Column     Dtype \n",
      "---  ------     ----- \n",
      " 0   id         object\n",
      " 1   permalink  object\n",
      " 2   url        object\n",
      " 3   score      int64 \n",
      "dtypes: int64(1), object(3)\n",
      "memory usage: 814.7 MB\n"
     ]
    }
   ],
   "source": [
    "df_posts.info(memory_usage=\"deep\")"
   ]
  },
  {
   "cell_type": "code",
   "execution_count": 7,
   "id": "f5a93346-4fa0-4f10-8c03-52dbddc205b3",
   "metadata": {},
   "outputs": [
    {
     "data": {
      "text/html": [
       "<div>\n",
       "<style scoped>\n",
       "    .dataframe tbody tr th:only-of-type {\n",
       "        vertical-align: middle;\n",
       "    }\n",
       "\n",
       "    .dataframe tbody tr th {\n",
       "        vertical-align: top;\n",
       "    }\n",
       "\n",
       "    .dataframe thead th {\n",
       "        text-align: right;\n",
       "    }\n",
       "</style>\n",
       "<table border=\"1\" class=\"dataframe\">\n",
       "  <thead>\n",
       "    <tr style=\"text-align: right;\">\n",
       "      <th></th>\n",
       "      <th>id</th>\n",
       "      <th>permalink</th>\n",
       "      <th>url</th>\n",
       "      <th>score</th>\n",
       "    </tr>\n",
       "  </thead>\n",
       "  <tbody>\n",
       "    <tr>\n",
       "      <th>417919</th>\n",
       "      <td>pdol0q</td>\n",
       "      <td>https://old.reddit.com/r/me_irl/comments/pdol0q/me_irl/</td>\n",
       "      <td>https://i.redd.it/wq77orl1h7k71.jpg</td>\n",
       "      <td>1</td>\n",
       "    </tr>\n",
       "    <tr>\n",
       "      <th>1667162</th>\n",
       "      <td>abu80z</td>\n",
       "      <td>https://old.reddit.com/r/me_irl/comments/abu80z/me_irl/</td>\n",
       "      <td>https://imgur.com/XJH2pur</td>\n",
       "      <td>14</td>\n",
       "    </tr>\n",
       "    <tr>\n",
       "      <th>3004140</th>\n",
       "      <td>4xxkxc</td>\n",
       "      <td>https://old.reddit.com/r/me_irl/comments/4xxkxc/me_irl/</td>\n",
       "      <td>https://i.reddituploads.com/c0bf2185b42e4d2eb98c9500b2a7b10c?fit=max&amp;amp;h=1536&amp;amp;w=1536&amp;amp;s=2b5acb7f6f3c6096d75ab1f1f0ea2993</td>\n",
       "      <td>0</td>\n",
       "    </tr>\n",
       "    <tr>\n",
       "      <th>1145914</th>\n",
       "      <td>cc6r5a</td>\n",
       "      <td>https://old.reddit.com/r/me_irl/comments/cc6r5a/help/</td>\n",
       "      <td>NaN</td>\n",
       "      <td>1</td>\n",
       "    </tr>\n",
       "    <tr>\n",
       "      <th>1994678</th>\n",
       "      <td>94303c</td>\n",
       "      <td>https://old.reddit.com/r/me_irl/comments/94303c/me_irl/</td>\n",
       "      <td>https://i.redd.it/y22008fvqqd11.jpg</td>\n",
       "      <td>201</td>\n",
       "    </tr>\n",
       "  </tbody>\n",
       "</table>\n",
       "</div>"
      ],
      "text/plain": [
       "             id                                                permalink  \\\n",
       "417919   pdol0q  https://old.reddit.com/r/me_irl/comments/pdol0q/me_irl/   \n",
       "1667162  abu80z  https://old.reddit.com/r/me_irl/comments/abu80z/me_irl/   \n",
       "3004140  4xxkxc  https://old.reddit.com/r/me_irl/comments/4xxkxc/me_irl/   \n",
       "1145914  cc6r5a    https://old.reddit.com/r/me_irl/comments/cc6r5a/help/   \n",
       "1994678  94303c  https://old.reddit.com/r/me_irl/comments/94303c/me_irl/   \n",
       "\n",
       "                                                                                                                                       url  \\\n",
       "417919                                                                                                 https://i.redd.it/wq77orl1h7k71.jpg   \n",
       "1667162                                                                                                          https://imgur.com/XJH2pur   \n",
       "3004140  https://i.reddituploads.com/c0bf2185b42e4d2eb98c9500b2a7b10c?fit=max&amp;h=1536&amp;w=1536&amp;s=2b5acb7f6f3c6096d75ab1f1f0ea2993   \n",
       "1145914                                                                                                                                NaN   \n",
       "1994678                                                                                                https://i.redd.it/y22008fvqqd11.jpg   \n",
       "\n",
       "         score  \n",
       "417919       1  \n",
       "1667162     14  \n",
       "3004140      0  \n",
       "1145914      1  \n",
       "1994678    201  "
      ]
     },
     "execution_count": 7,
     "metadata": {},
     "output_type": "execute_result"
    }
   ],
   "source": [
    "df_posts.sample(5)"
   ]
  },
  {
   "cell_type": "code",
   "execution_count": 8,
   "id": "be1b850d-7968-4629-980a-dc9ddf0c79d8",
   "metadata": {},
   "outputs": [
    {
     "data": {
      "text/plain": [
       "<AxesSubplot:title={'center':'Are there null permalinks?'}, ylabel='permalink'>"
      ]
     },
     "execution_count": 8,
     "metadata": {},
     "output_type": "execute_result"
    },
    {
     "data": {
      "image/png": "[encoded data removed]",
      "text/plain": [
       "<Figure size 432x288 with 1 Axes>"
      ]
     },
     "metadata": {},
     "output_type": "display_data"
    }
   ],
   "source": [
    "df_posts.permalink.isnull().value_counts().plot(kind=\"pie\", legend=True, title=\"Are there null permalinks?\")"
   ]
  },
  {
   "cell_type": "code",
   "execution_count": 9,
   "id": "b2ef2dd2-f740-471d-bf32-9db2c5b0c685",
   "metadata": {},
   "outputs": [
    {
     "data": {
      "text/plain": [
       "<AxesSubplot:title={'center':'Are there null scores?'}, ylabel='score'>"
      ]
     },
     "execution_count": 9,
     "metadata": {},
     "output_type": "execute_result"
    },
    {
     "data": {
      "image/png": "[encoded data removed]",
      "text/plain": [
       "<Figure size 432x288 with 1 Axes>"
      ]
     },
     "metadata": {},
     "output_type": "display_data"
    }
   ],
   "source": [
    "df_posts.score.isnull().value_counts().plot(kind=\"pie\", legend=True, title=\"Are there null scores?\")"
   ]
  },
  {
   "cell_type": "markdown",
   "id": "a20927dc-0cc5-4705-a09a-06e4aefb1fc8",
   "metadata": {},
   "source": [
    "# Comments"
   ]
  },
  {
   "cell_type": "code",
   "execution_count": 10,
   "id": "732a1b91-d440-478f-875e-fe9f0372cda0",
   "metadata": {},
   "outputs": [],
   "source": [
    "df_comments = pd.read_csv(\"data/the-reddit-irl-dataset-comments.csv\", usecols=[\"permalink\", \"sentiment\", \"body\"], engine=\"c\")"
   ]
  },
  {
   "cell_type": "code",
   "execution_count": 11,
   "id": "2802186d-eb76-47d0-aa3f-7425e132d392",
   "metadata": {},
   "outputs": [],
   "source": [
    "df_comments[\"post_id\"] = df_comments.permalink.str.extract(r'https://old.reddit.com/r/me_?irl/comments/([^/]+)/.*', expand=False)"
   ]
  },
  {
   "cell_type": "code",
   "execution_count": 12,
   "id": "81131bc0-1378-4a26-8cbf-393c947a10ab",
   "metadata": {},
   "outputs": [
    {
     "name": "stdout",
     "output_type": "stream",
     "text": [
      "<class 'pandas.core.frame.DataFrame'>\n",
      "RangeIndex: 12053027 entries, 0 to 12053026\n",
      "Data columns (total 4 columns):\n",
      " #   Column     Dtype  \n",
      "---  ------     -----  \n",
      " 0   permalink  object \n",
      " 1   body       object \n",
      " 2   sentiment  float64\n",
      " 3   post_id    object \n",
      "dtypes: float64(1), object(3)\n",
      "memory usage: 3.9 GB\n"
     ]
    }
   ],
   "source": [
    "df_comments.info(memory_usage=\"deep\")"
   ]
  },
  {
   "cell_type": "code",
   "execution_count": 13,
   "id": "720c98c1-d62d-41f1-a4d5-10e070b54500",
   "metadata": {},
   "outputs": [
    {
     "data": {
      "text/html": [
       "<div>\n",
       "<style scoped>\n",
       "    .dataframe tbody tr th:only-of-type {\n",
       "        vertical-align: middle;\n",
       "    }\n",
       "\n",
       "    .dataframe tbody tr th {\n",
       "        vertical-align: top;\n",
       "    }\n",
       "\n",
       "    .dataframe thead th {\n",
       "        text-align: right;\n",
       "    }\n",
       "</style>\n",
       "<table border=\"1\" class=\"dataframe\">\n",
       "  <thead>\n",
       "    <tr style=\"text-align: right;\">\n",
       "      <th></th>\n",
       "      <th>permalink</th>\n",
       "      <th>body</th>\n",
       "      <th>sentiment</th>\n",
       "      <th>post_id</th>\n",
       "    </tr>\n",
       "  </thead>\n",
       "  <tbody>\n",
       "    <tr>\n",
       "      <th>29724</th>\n",
       "      <td>https://old.reddit.com/r/meirl/comments/tk71cq/meirl/i1qv67j/</td>\n",
       "      <td>2.2.1 is fine. Anything newer isn't.</td>\n",
       "      <td>0.2023</td>\n",
       "      <td>tk71cq</td>\n",
       "    </tr>\n",
       "    <tr>\n",
       "      <th>4604017</th>\n",
       "      <td>https://old.reddit.com/r/me_irl/comments/emok0j/me_irl/fds7wtw/</td>\n",
       "      <td>I love republics</td>\n",
       "      <td>0.6369</td>\n",
       "      <td>emok0j</td>\n",
       "    </tr>\n",
       "    <tr>\n",
       "      <th>8394023</th>\n",
       "      <td>https://old.reddit.com/r/me_irl/comments/9565pk/me_irl/e3qczu1/</td>\n",
       "      <td>Going to the store. There are multiple others now.</td>\n",
       "      <td>0.0000</td>\n",
       "      <td>9565pk</td>\n",
       "    </tr>\n",
       "    <tr>\n",
       "      <th>2368216</th>\n",
       "      <td>https://old.reddit.com/r/me_irl/comments/p4ac5q/me_irl/h8y0edh/</td>\n",
       "      <td>Chocolate is made of cacao which grows on a tree so it’s healthy</td>\n",
       "      <td>0.4549</td>\n",
       "      <td>p4ac5q</td>\n",
       "    </tr>\n",
       "    <tr>\n",
       "      <th>9361330</th>\n",
       "      <td>https://old.reddit.com/r/me_irl/comments/830lfv/me_irl/dvf78xm/</td>\n",
       "      <td>This  is a work of meme.</td>\n",
       "      <td>0.0000</td>\n",
       "      <td>830lfv</td>\n",
       "    </tr>\n",
       "  </tbody>\n",
       "</table>\n",
       "</div>"
      ],
      "text/plain": [
       "                                                               permalink  \\\n",
       "29724      https://old.reddit.com/r/meirl/comments/tk71cq/meirl/i1qv67j/   \n",
       "4604017  https://old.reddit.com/r/me_irl/comments/emok0j/me_irl/fds7wtw/   \n",
       "8394023  https://old.reddit.com/r/me_irl/comments/9565pk/me_irl/e3qczu1/   \n",
       "2368216  https://old.reddit.com/r/me_irl/comments/p4ac5q/me_irl/h8y0edh/   \n",
       "9361330  https://old.reddit.com/r/me_irl/comments/830lfv/me_irl/dvf78xm/   \n",
       "\n",
       "                                                                     body  \\\n",
       "29724                                2.2.1 is fine. Anything newer isn't.   \n",
       "4604017                                                  I love republics   \n",
       "8394023               Going to the store. There are multiple others now.    \n",
       "2368216  Chocolate is made of cacao which grows on a tree so it’s healthy   \n",
       "9361330                                          This  is a work of meme.   \n",
       "\n",
       "         sentiment post_id  \n",
       "29724       0.2023  tk71cq  \n",
       "4604017     0.6369  emok0j  \n",
       "8394023     0.0000  9565pk  \n",
       "2368216     0.4549  p4ac5q  \n",
       "9361330     0.0000  830lfv  "
      ]
     },
     "execution_count": 13,
     "metadata": {},
     "output_type": "execute_result"
    }
   ],
   "source": [
    "df_comments.sample(5)"
   ]
  },
  {
   "cell_type": "code",
   "execution_count": 14,
   "id": "cd913645-aeaf-41d8-b67e-56e009fa7487",
   "metadata": {},
   "outputs": [
    {
     "data": {
      "text/plain": [
       "0            3.0\n",
       "1           26.0\n",
       "2           23.0\n",
       "3           94.0\n",
       "4           14.0\n",
       "            ... \n",
       "12053022     2.0\n",
       "12053023    11.0\n",
       "12053024    12.0\n",
       "12053025     5.0\n",
       "12053026     6.0\n",
       "Name: body, Length: 12053027, dtype: float64"
      ]
     },
     "execution_count": 14,
     "metadata": {},
     "output_type": "execute_result"
    }
   ],
   "source": [
    "df_comments.body.str.len()"
   ]
  },
  {
   "cell_type": "markdown",
   "id": "2f9ccabb-2e62-4a13-b88a-2948c352746c",
   "metadata": {},
   "source": [
    "# Utils"
   ]
  },
  {
   "cell_type": "code",
   "execution_count": 73,
   "id": "d7486edb-d3c7-4621-be2f-945a4d203444",
   "metadata": {},
   "outputs": [],
   "source": [
    "import math\n",
    "\n",
    "units = {\"b\": 0, \"kb\": 1, \"mb\": 2, \"gb\": 3, \"tb\": 4}\n",
    "\n",
    "def humansize(nbytes: int) -> str:\n",
    "    \"\"\"Convert bytes to human readable format.\n",
    "\n",
    "    Source: https://stackoverflow.com/a/14996816/4864169\n",
    "\n",
    "    Parameters\n",
    "    ----------\n",
    "    nbytes : int\n",
    "        Number of bytes.\n",
    "\n",
    "    Returns\n",
    "    -------\n",
    "    str\n",
    "        Message that indicates number of bytes in a human readable format.\n",
    "\n",
    "    \"\"\"\n",
    "    suffixes = [\"B\", \"KB\", \"MB\", \"GB\", \"TB\", \"PB\"]\n",
    "\n",
    "    if nbytes < 0:\n",
    "        raise ValueError(\"Number of bytes should be greater than or equal to zero\")\n",
    "\n",
    "    exp: int = 0 if nbytes == 0 else math.floor(math.log(nbytes, 1024))\n",
    "    n_units: float = nbytes / math.pow(1024, exp)\n",
    "    bytes_str = f\"{n_units:.2f}\".rstrip(\"0\").rstrip(\".\")\n",
    "    return f\"{bytes_str} {suffixes[exp]}\""
   ]
  },
  {
   "cell_type": "code",
   "execution_count": 74,
   "id": "e5367c73-7f88-450a-b362-1296df85a63f",
   "metadata": {},
   "outputs": [
    {
     "data": {
      "text/plain": [
       "'814.7 MB'"
      ]
     },
     "execution_count": 74,
     "metadata": {},
     "output_type": "execute_result"
    }
   ],
   "source": [
    "humansize(df_posts.memory_usage(deep=True, index=False).sum())"
   ]
  },
  {
   "cell_type": "markdown",
   "id": "3a347aae-42aa-41a6-ad4c-2adf91fe61de",
   "metadata": {},
   "source": [
    "# Cardinalidades del DAG"
   ]
  },
  {
   "cell_type": "code",
   "execution_count": 75,
   "id": "4dacc833-ea3f-472b-a557-5de3fa09e661",
   "metadata": {},
   "outputs": [
    {
     "data": {
      "text/plain": [
       "'227.69 MB'"
      ]
     },
     "execution_count": 75,
     "metadata": {},
     "output_type": "execute_result"
    }
   ],
   "source": [
    "df_1 = df_posts[[\"id\", \"score\"]]\n",
    "humansize(df_1.memory_usage(deep=True, index=False).sum())"
   ]
  },
  {
   "cell_type": "code",
   "execution_count": 76,
   "id": "279a9e56-b430-4780-8ac1-61f891f9c9f3",
   "metadata": {},
   "outputs": [
    {
     "data": {
      "text/plain": [
       "'32 B'"
      ]
     },
     "execution_count": 76,
     "metadata": {},
     "output_type": "execute_result"
    }
   ],
   "source": [
    "import sys\n",
    "\n",
    "humansize(sys.getsizeof(df_posts.score.mean()))"
   ]
  },
  {
   "cell_type": "code",
   "execution_count": 78,
   "id": "8bfc90c0-7ef4-4438-abbf-60ede7e588a0",
   "metadata": {},
   "outputs": [
    {
     "data": {
      "text/plain": [
       "'425.94 MB'"
      ]
     },
     "execution_count": 78,
     "metadata": {},
     "output_type": "execute_result"
    }
   ],
   "source": [
    "df_2 = df_posts[[\"id\", \"url\"]]\n",
    "humansize(df_2.memory_usage(deep=True, index=False).sum())"
   ]
  },
  {
   "cell_type": "code",
   "execution_count": 79,
   "id": "b46a5d40-4d0c-4e1e-a0c2-8567ef46864b",
   "metadata": {},
   "outputs": [
    {
     "data": {
      "text/plain": [
       "'309.52 MB'"
      ]
     },
     "execution_count": 79,
     "metadata": {},
     "output_type": "execute_result"
    }
   ],
   "source": [
    "df_3 = df_2[df_2.url.notnull()]\n",
    "humansize(df_3.memory_usage(deep=True, index=False).sum())"
   ]
  },
  {
   "cell_type": "code",
   "execution_count": 80,
   "id": "b38c22a6-8ab4-4adc-8e21-f727e6eeb2cd",
   "metadata": {},
   "outputs": [
    {
     "data": {
      "text/plain": [
       "'451.59 MB'"
      ]
     },
     "execution_count": 80,
     "metadata": {},
     "output_type": "execute_result"
    }
   ],
   "source": [
    "df_4 = df_posts[[\"score\", \"id\", \"url\"]]\n",
    "humansize(df_4.memory_usage(deep=True, index=False).sum())"
   ]
  },
  {
   "cell_type": "code",
   "execution_count": 81,
   "id": "ae7f2aeb-4328-431a-a66e-135c0922583b",
   "metadata": {},
   "outputs": [
    {
     "data": {
      "text/plain": [
       "'33.02 MB'"
      ]
     },
     "execution_count": 81,
     "metadata": {},
     "output_type": "execute_result"
    }
   ],
   "source": [
    "df_5 = df_4[df_4.score > df_posts.score.mean()]\n",
    "humansize(df_5.memory_usage(deep=True, index=False).sum())"
   ]
  },
  {
   "cell_type": "code",
   "execution_count": 82,
   "id": "bbd0a506-e620-4316-a1ab-4f465d9843aa",
   "metadata": {},
   "outputs": [
    {
     "data": {
      "text/plain": [
       "'3.88 GB'"
      ]
     },
     "execution_count": 82,
     "metadata": {},
     "output_type": "execute_result"
    }
   ],
   "source": [
    "humansize(df_comments.memory_usage(deep=True, index=False).sum())"
   ]
  },
  {
   "cell_type": "code",
   "execution_count": 83,
   "id": "0a3d5ea4-ebbf-45ce-88e2-fce3308be64b",
   "metadata": {},
   "outputs": [
    {
     "data": {
      "text/plain": [
       "'3.08 GB'"
      ]
     },
     "execution_count": 83,
     "metadata": {},
     "output_type": "execute_result"
    }
   ],
   "source": [
    "df_6 = df_comments[[\"permalink\", \"body\"]]\n",
    "humansize(df_6.memory_usage(deep=True, index=False).sum())"
   ]
  },
  {
   "cell_type": "code",
   "execution_count": 93,
   "id": "59932ce9-fa13-4478-8ed6-dc8380a56dd4",
   "metadata": {},
   "outputs": [
    {
     "name": "stderr",
     "output_type": "stream",
     "text": [
      "/tmp/ipykernel_424517/2689693913.py:1: UserWarning: This pattern is interpreted as a regular expression, and has match groups. To actually get the groups, use str.extract.\n",
      "  student_comments = df_6.body.str.lower().str.contains(\"(university|college|student|teacher|professor)\", regex=True).fillna(False)\n"
     ]
    },
    {
     "data": {
      "text/plain": [
       "'6.1 MB'"
      ]
     },
     "execution_count": 93,
     "metadata": {},
     "output_type": "execute_result"
    }
   ],
   "source": [
    "student_comments = df_6.body.str.lower().str.contains(\"(university|college|student|teacher|professor)\", regex=True).fillna(False)\n",
    "df_7 = df_6[student_comments]\n",
    "df_7 = df_7[[\"permalink\"]]\n",
    "humansize(df_7.memory_usage(deep=True, index=False).sum())"
   ]
  },
  {
   "cell_type": "code",
   "execution_count": 99,
   "id": "34000bd7-5516-49a4-8e2d-5cb08bd58c52",
   "metadata": {},
   "outputs": [
    {
     "data": {
      "text/plain": [
       "'3.21 MB'"
      ]
     },
     "execution_count": 99,
     "metadata": {},
     "output_type": "execute_result"
    }
   ],
   "source": [
    "df_8 = df_7[[\"permalink\"]]\n",
    "df_8.permalink = df_8.permalink.str.extract(r'https://old.reddit.com/r/me_?irl/comments/([^/]+)/.*', expand=False)\n",
    "humansize(df_8.memory_usage(deep=True, index=False).sum())"
   ]
  },
  {
   "cell_type": "code",
   "execution_count": 101,
   "id": "0f913657-8e4e-45fd-bf10-68722c9e3d31",
   "metadata": {},
   "outputs": [
    {
     "data": {
      "text/plain": [
       "'1.23 MB'"
      ]
     },
     "execution_count": 101,
     "metadata": {},
     "output_type": "execute_result"
    }
   ],
   "source": [
    "df_9 = df_8.drop_duplicates()\n",
    "humansize(df_9.memory_usage(deep=True, index=False).sum())"
   ]
  },
  {
   "cell_type": "code",
   "execution_count": 102,
   "id": "275ebffc-407e-460a-b483-06c8351d80c9",
   "metadata": {},
   "outputs": [
    {
     "data": {
      "text/plain": [
       "'1.44 GB'"
      ]
     },
     "execution_count": 102,
     "metadata": {},
     "output_type": "execute_result"
    }
   ],
   "source": [
    "df_10 = df_comments[[\"sentiment\", \"permalink\"]]\n",
    "humansize(df_10.memory_usage(deep=True, index=False).sum())"
   ]
  },
  {
   "cell_type": "code",
   "execution_count": 108,
   "id": "5b24adc2-38f0-474f-b8e9-81cf0f774723",
   "metadata": {},
   "outputs": [
    {
     "data": {
      "text/plain": [
       "'912.18 MB'"
      ]
     },
     "execution_count": 108,
     "metadata": {},
     "output_type": "execute_result"
    }
   ],
   "source": [
    "df_10b = df_10.dropna(subset=[\"sentiment\"])\n",
    "humansize(df_10b.memory_usage(deep=True, index=False).sum())"
   ]
  },
  {
   "cell_type": "code",
   "execution_count": 109,
   "id": "58752051-da1b-473f-b131-8f0a75e353f2",
   "metadata": {},
   "outputs": [
    {
     "data": {
      "text/plain": [
       "'505.09 MB'"
      ]
     },
     "execution_count": 109,
     "metadata": {},
     "output_type": "execute_result"
    }
   ],
   "source": [
    "df_11 = df_10b[[\"sentiment\", \"permalink\"]]\n",
    "df_11.permalink = df_11.permalink.str.extract(r'https://old.reddit.com/r/me_?irl/comments/([^/]+)/.*', expand=False)\n",
    "humansize(df_11.memory_usage(deep=True, index=False).sum())"
   ]
  },
  {
   "cell_type": "code",
   "execution_count": 111,
   "id": "9e8ed02a-4e30-4f5f-8f55-1f0fb418006d",
   "metadata": {},
   "outputs": [
    {
     "data": {
      "text/plain": [
       "'10.83 MB'"
      ]
     },
     "execution_count": 111,
     "metadata": {},
     "output_type": "execute_result"
    }
   ],
   "source": [
    "df_12 = df_11[[\"sentiment\", \"permalink\"]]\n",
    "df_12 = df_12.groupby(\"permalink\")[[\"sentiment\"]].agg(\"mean\")\n",
    "humansize(df_12.memory_usage(deep=True, index=False).sum())"
   ]
  },
  {
   "cell_type": "markdown",
   "id": "24c6ce65-f826-445c-812a-df5c09fe727a",
   "metadata": {},
   "source": [
    "# Primer punto\n",
    "Promedio de score de todos los posts"
   ]
  },
  {
   "cell_type": "code",
   "execution_count": 15,
   "id": "3ef0a7a3-a85f-422a-a818-386e52b21739",
   "metadata": {},
   "outputs": [
    {
     "name": "stdout",
     "output_type": "stream",
     "text": [
      "CPU times: user 4.06 ms, sys: 9 µs, total: 4.06 ms\n",
      "Wall time: 3.15 ms\n"
     ]
    },
    {
     "data": {
      "text/plain": [
       "240.03112485120053"
      ]
     },
     "execution_count": 15,
     "metadata": {},
     "output_type": "execute_result"
    }
   ],
   "source": [
    "%%time\n",
    "df_posts.score.mean()"
   ]
  },
  {
   "cell_type": "markdown",
   "id": "48ca7f52-ff70-40d4-b61a-3b33ddf16e86",
   "metadata": {},
   "source": [
    "# Segundo punto\n",
    "URLs de memes que gustan a estudiantes (con comments sobre\n",
    "university, college, student, teacher, professor y con score mayor al\n",
    "promedio)"
   ]
  },
  {
   "cell_type": "code",
   "execution_count": 19,
   "id": "4da2f882-a84c-4bd7-a256-104b175ad6d8",
   "metadata": {},
   "outputs": [
    {
     "name": "stderr",
     "output_type": "stream",
     "text": [
      "<timed exec>:1: UserWarning: This pattern is interpreted as a regular expression, and has match groups. To actually get the groups, use str.extract.\n"
     ]
    },
    {
     "name": "stdout",
     "output_type": "stream",
     "text": [
      "CPU times: user 24.7 s, sys: 696 ms, total: 25.4 s\n",
      "Wall time: 25.5 s\n"
     ]
    },
    {
     "data": {
      "text/plain": [
       "64           https://old.reddit.com/r/meirl/comments/tt7di4/meirl/\n",
       "184          https://old.reddit.com/r/meirl/comments/tswh3j/meirl/\n",
       "274          https://old.reddit.com/r/meirl/comments/tsln86/meirl/\n",
       "368          https://old.reddit.com/r/meirl/comments/ts18dg/meirl/\n",
       "412         https://old.reddit.com/r/meirl/comments/trt0ct/me_irl/\n",
       "                                    ...                           \n",
       "3344234    https://old.reddit.com/r/me_irl/comments/2ngfiw/me_irl/\n",
       "3345273    https://old.reddit.com/r/me_irl/comments/2m914u/me_irl/\n",
       "3347173    https://old.reddit.com/r/me_irl/comments/2jp72s/me_irl/\n",
       "3348733    https://old.reddit.com/r/me_irl/comments/2hizbm/me_irl/\n",
       "3348982    https://old.reddit.com/r/me_irl/comments/2h2xcc/me_irl/\n",
       "Name: permalink, Length: 15033, dtype: object"
      ]
     },
     "execution_count": 19,
     "metadata": {},
     "output_type": "execute_result"
    }
   ],
   "source": [
    "%%time\n",
    "\n",
    "student_comments = df_comments.body.str.lower().str.contains(\"(university|college|student|teacher|professor)\", regex=True).fillna(False)\n",
    "\n",
    "df_posts[(\n",
    "    df_posts.id.isin(\n",
    "        df_comments[student_comments].post_id.unique()\n",
    "    )) & (\n",
    "    df_posts.score >= df_posts.score.mean()\n",
    "    )].permalink"
   ]
  },
  {
   "cell_type": "markdown",
   "id": "36fda778-c3ed-4ed5-97bc-7121c3997e86",
   "metadata": {},
   "source": [
    "# Tercer punto\n",
    "Descarga del meme con mejor sentiment promedio"
   ]
  },
  {
   "cell_type": "code",
   "execution_count": null,
   "id": "830422a1-206b-477a-9259-4f5b1c2a16be",
   "metadata": {},
   "outputs": [
    {
     "name": "stdout",
     "output_type": "stream",
     "text": [
      "CPU times: user 6.17 s, sys: 156 ms, total: 6.32 s\n",
      "Wall time: 6.35 s\n"
     ]
    },
    {
     "data": {
      "text/html": [
       "<div>\n",
       "<style scoped>\n",
       "    .dataframe tbody tr th:only-of-type {\n",
       "        vertical-align: middle;\n",
       "    }\n",
       "\n",
       "    .dataframe tbody tr th {\n",
       "        vertical-align: top;\n",
       "    }\n",
       "\n",
       "    .dataframe thead th {\n",
       "        text-align: right;\n",
       "    }\n",
       "</style>\n",
       "<table border=\"1\" class=\"dataframe\">\n",
       "  <thead>\n",
       "    <tr style=\"text-align: right;\">\n",
       "      <th></th>\n",
       "      <th>id</th>\n",
       "      <th>permalink</th>\n",
       "      <th>url</th>\n",
       "      <th>score</th>\n",
       "      <th>sentiment</th>\n",
       "    </tr>\n",
       "  </thead>\n",
       "  <tbody>\n",
       "    <tr>\n",
       "      <th>645872</th>\n",
       "      <td>8lxk5l</td>\n",
       "      <td>https://old.reddit.com/r/me_irl/comments/8lxk5l/me_irl/</td>\n",
       "      <td>https://i.redd.it/zyvq456cbwz01.png</td>\n",
       "      <td>33</td>\n",
       "      <td>1.0000</td>\n",
       "    </tr>\n",
       "    <tr>\n",
       "      <th>270854</th>\n",
       "      <td>exqhut</td>\n",
       "      <td>https://old.reddit.com/r/me_irl/comments/exqhut/me_irl/</td>\n",
       "      <td>https://i.redd.it/2esiak87aje41.jpg</td>\n",
       "      <td>9</td>\n",
       "      <td>1.0000</td>\n",
       "    </tr>\n",
       "    <tr>\n",
       "      <th>367120</th>\n",
       "      <td>c7fp9q</td>\n",
       "      <td>https://old.reddit.com/r/me_irl/comments/c7fp9q/me_irl/</td>\n",
       "      <td>https://i.redd.it/5lpr2qy0hi731.png</td>\n",
       "      <td>28</td>\n",
       "      <td>1.0000</td>\n",
       "    </tr>\n",
       "    <tr>\n",
       "      <th>738437</th>\n",
       "      <td>6trw8x</td>\n",
       "      <td>https://old.reddit.com/r/me_irl/comments/6trw8x/me_irl/</td>\n",
       "      <td>http://i.imgur.com/YdKNs64.jpg</td>\n",
       "      <td>11</td>\n",
       "      <td>0.9999</td>\n",
       "    </tr>\n",
       "    <tr>\n",
       "      <th>395811</th>\n",
       "      <td>bpzcd6</td>\n",
       "      <td>https://old.reddit.com/r/me_irl/comments/bpzcd6/me_irl/</td>\n",
       "      <td>https://i.redd.it/7mud4j41fvy21.jpg</td>\n",
       "      <td>11</td>\n",
       "      <td>0.9999</td>\n",
       "    </tr>\n",
       "    <tr>\n",
       "      <th>116107</th>\n",
       "      <td>3e5tl9</td>\n",
       "      <td>https://old.reddit.com/r/meirl/comments/3e5tl9/me_irl/</td>\n",
       "      <td>http://imgur.com/OgHIPMK</td>\n",
       "      <td>58</td>\n",
       "      <td>0.9999</td>\n",
       "    </tr>\n",
       "    <tr>\n",
       "      <th>811983</th>\n",
       "      <td>57va1i</td>\n",
       "      <td>https://old.reddit.com/r/me_irl/comments/57va1i/me_irl/</td>\n",
       "      <td>http://i.imgur.com/54wPMWF.jpg</td>\n",
       "      <td>72</td>\n",
       "      <td>0.9998</td>\n",
       "    </tr>\n",
       "    <tr>\n",
       "      <th>358725</th>\n",
       "      <td>cd2wyw</td>\n",
       "      <td>https://old.reddit.com/r/me_irl/comments/cd2wyw/meirl/</td>\n",
       "      <td>https://i.imgur.com/6pFOCl0.png</td>\n",
       "      <td>9</td>\n",
       "      <td>0.9997</td>\n",
       "    </tr>\n",
       "    <tr>\n",
       "      <th>236590</th>\n",
       "      <td>gkyf9p</td>\n",
       "      <td>https://old.reddit.com/r/me_irl/comments/gkyf9p/me_irl/</td>\n",
       "      <td>https://i.redd.it/ry3wgug6v5z41.jpg</td>\n",
       "      <td>32</td>\n",
       "      <td>0.9997</td>\n",
       "    </tr>\n",
       "    <tr>\n",
       "      <th>643254</th>\n",
       "      <td>8n1xl1</td>\n",
       "      <td>https://old.reddit.com/r/me_irl/comments/8n1xl1/me_irl/</td>\n",
       "      <td>https://i.redd.it/vj8nb3fyju011.jpg</td>\n",
       "      <td>13</td>\n",
       "      <td>0.9997</td>\n",
       "    </tr>\n",
       "  </tbody>\n",
       "</table>\n",
       "</div>"
      ],
      "text/plain": [
       "            id                                                permalink  \\\n",
       "645872  8lxk5l  https://old.reddit.com/r/me_irl/comments/8lxk5l/me_irl/   \n",
       "270854  exqhut  https://old.reddit.com/r/me_irl/comments/exqhut/me_irl/   \n",
       "367120  c7fp9q  https://old.reddit.com/r/me_irl/comments/c7fp9q/me_irl/   \n",
       "738437  6trw8x  https://old.reddit.com/r/me_irl/comments/6trw8x/me_irl/   \n",
       "395811  bpzcd6  https://old.reddit.com/r/me_irl/comments/bpzcd6/me_irl/   \n",
       "116107  3e5tl9   https://old.reddit.com/r/meirl/comments/3e5tl9/me_irl/   \n",
       "811983  57va1i  https://old.reddit.com/r/me_irl/comments/57va1i/me_irl/   \n",
       "358725  cd2wyw   https://old.reddit.com/r/me_irl/comments/cd2wyw/meirl/   \n",
       "236590  gkyf9p  https://old.reddit.com/r/me_irl/comments/gkyf9p/me_irl/   \n",
       "643254  8n1xl1  https://old.reddit.com/r/me_irl/comments/8n1xl1/me_irl/   \n",
       "\n",
       "                                        url  score  sentiment  \n",
       "645872  https://i.redd.it/zyvq456cbwz01.png     33     1.0000  \n",
       "270854  https://i.redd.it/2esiak87aje41.jpg      9     1.0000  \n",
       "367120  https://i.redd.it/5lpr2qy0hi731.png     28     1.0000  \n",
       "738437       http://i.imgur.com/YdKNs64.jpg     11     0.9999  \n",
       "395811  https://i.redd.it/7mud4j41fvy21.jpg     11     0.9999  \n",
       "116107             http://imgur.com/OgHIPMK     58     0.9999  \n",
       "811983       http://i.imgur.com/54wPMWF.jpg     72     0.9998  \n",
       "358725      https://i.imgur.com/6pFOCl0.png      9     0.9997  \n",
       "236590  https://i.redd.it/ry3wgug6v5z41.jpg     32     0.9997  \n",
       "643254  https://i.redd.it/vj8nb3fyju011.jpg     13     0.9997  "
      ]
     },
     "execution_count": 17,
     "metadata": {},
     "output_type": "execute_result"
    }
   ],
   "source": [
    "%%time\n",
    "\n",
    "df_posts.dropna(subset=[\"url\"]).merge(\n",
    "    df_comments.dropna(subset=[\"sentiment\"]).groupby(\"post_id\").sentiment.agg(\"mean\"),\n",
    "    how=\"inner\",\n",
    "    left_on=\"id\",\n",
    "    right_on=\"post_id\"\n",
    ").sort_values(\n",
    "    by=\"sentiment\",\n",
    "    ascending=False\n",
    ").head(10)"
   ]
  },
  {
   "cell_type": "code",
   "execution_count": null,
   "id": "b1c4d109-1339-4d89-b6cc-f8e88f4af7b8",
   "metadata": {},
   "outputs": [],
   "source": []
  }
 ],
 "metadata": {
  "kernelspec": {
   "display_name": "Python 3 (ipykernel)",
   "language": "python",
   "name": "python3"
  },
  "language_info": {
   "codemirror_mode": {
    "name": "ipython",
    "version": 3
   },
   "file_extension": ".py",
   "mimetype": "text/x-python",
   "name": "python",
   "nbconvert_exporter": "python",
   "pygments_lexer": "ipython3",
   "version": "3.10.4"
  }
 },
 "nbformat": 4,
 "nbformat_minor": 5
}
